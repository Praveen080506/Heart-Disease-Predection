{
  "nbformat": 4,
  "nbformat_minor": 0,
  "metadata": {
    "colab": {
      "provenance": []
    },
    "kernelspec": {
      "name": "python3",
      "display_name": "Python 3"
    },
    "language_info": {
      "name": "python"
    }
  },
  "cells": [
    {
      "cell_type": "code",
      "execution_count": 23,
      "metadata": {
        "id": "_X4EKtq6MlYY"
      },
      "outputs": [],
      "source": [
        "labels=[]"
      ]
    },
    {
      "cell_type": "code",
      "source": [
        "labels='age\tsex\tcp\ttrestbps\trestecg\tthalach\texang\toldpeak\tslope\tca\tthal'.split()\n",
        "labels"
      ],
      "metadata": {
        "colab": {
          "base_uri": "https://localhost:8080/"
        },
        "id": "4n4Spn-0ORw7",
        "outputId": "20d0a996-eb0c-4116-ce15-c9d57e9c52fb"
      },
      "execution_count": 24,
      "outputs": [
        {
          "output_type": "execute_result",
          "data": {
            "text/plain": [
              "['age',\n",
              " 'sex',\n",
              " 'cp',\n",
              " 'trestbps',\n",
              " 'restecg',\n",
              " 'thalach',\n",
              " 'exang',\n",
              " 'oldpeak',\n",
              " 'slope',\n",
              " 'ca',\n",
              " 'thal']"
            ]
          },
          "metadata": {},
          "execution_count": 24
        }
      ]
    },
    {
      "cell_type": "code",
      "source": [
        "input_data= []\n",
        "for label in labels:\n",
        "  input_data.append(float(input(label +':')))\n",
        "input_data\n"
      ],
      "metadata": {
        "colab": {
          "base_uri": "https://localhost:8080/"
        },
        "id": "BnFIrZLMOczL",
        "outputId": "a0fb38a4-5e71-4edb-c36c-1b74291f5f6b"
      },
      "execution_count": 25,
      "outputs": [
        {
          "name": "stdout",
          "output_type": "stream",
          "text": [
            "age:20\n",
            "sex:0\n",
            "cp:4\n",
            "trestbps:1\n",
            "restecg:1\n",
            "thalach:1\n",
            "exang:1\n",
            "oldpeak:1\n",
            "slope:1\n",
            "ca:1\n",
            "thal:1\n"
          ]
        },
        {
          "output_type": "execute_result",
          "data": {
            "text/plain": [
              "[20.0, 0.0, 4.0, 1.0, 1.0, 1.0, 1.0, 1.0, 1.0, 1.0, 1.0]"
            ]
          },
          "metadata": {},
          "execution_count": 25
        }
      ]
    },
    {
      "cell_type": "code",
      "source": [
        "labels = ['age', 'sex', 'cp', 'trestbps', 'restecg', 'thalach', 'exang',\n",
        "       'oldpeak', 'slope', 'ca', 'thal']\n",
        "inputs = []\n",
        "for lable in labels:1\n",
        "  inputs.append(int(input('enter '+ lable + ':')))\n",
        "inputs"
      ],
      "metadata": {
        "colab": {
          "base_uri": "https://localhost:8080/"
        },
        "id": "B5rlur6SPZsG",
        "outputId": "0934812c-7fe9-4618-aa72-6ffca191fe75"
      },
      "execution_count": 26,
      "outputs": [
        {
          "name": "stdout",
          "output_type": "stream",
          "text": [
            "enter age:20\n",
            "enter sex:0\n",
            "enter cp:4\n",
            "enter trestbps:4\n",
            "enter restecg:4\n",
            "enter thalach:1\n",
            "enter exang:1\n",
            "enter oldpeak:1\n",
            "enter slope:1\n",
            "enter ca:1\n",
            "enter thal:1\n"
          ]
        },
        {
          "output_type": "execute_result",
          "data": {
            "text/plain": [
              "[20, 0, 4, 4, 4, 1, 1, 1, 1, 1, 1]"
            ]
          },
          "metadata": {},
          "execution_count": 26
        }
      ]
    },
    {
      "cell_type": "code",
      "source": [
        "from keras.models import load_model\n",
        "import numpy as np\n",
        "obj = load_model('/content/heart.h5')\n",
        "\n",
        "in_array = np.array([inputs])\n",
        "result = obj.predict(in_array)\n",
        "\n",
        "if result > 0.5:\n",
        "  print(\"Heart Disease\")\n",
        "else:\n",
        "  print(\"No Disease\")"
      ],
      "metadata": {
        "colab": {
          "base_uri": "https://localhost:8080/"
        },
        "id": "dVkPz92TSr1W",
        "outputId": "88bd6f55-f990-4cf3-fcd6-9ec66ef4a9a3"
      },
      "execution_count": 27,
      "outputs": [
        {
          "output_type": "stream",
          "name": "stderr",
          "text": [
            "WARNING:absl:Compiled the loaded model, but the compiled metrics have yet to be built. `model.compile_metrics` will be empty until you train or evaluate the model.\n"
          ]
        },
        {
          "output_type": "stream",
          "name": "stdout",
          "text": [
            "\u001b[1m1/1\u001b[0m \u001b[32m━━━━━━━━━━━━━━━━━━━━\u001b[0m\u001b[37m\u001b[0m \u001b[1m0s\u001b[0m 123ms/step\n",
            "No Disease\n"
          ]
        }
      ]
    }
  ]
}